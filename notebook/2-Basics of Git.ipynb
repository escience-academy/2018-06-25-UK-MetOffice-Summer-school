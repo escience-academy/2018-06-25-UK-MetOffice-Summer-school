{
 "cells": [
  {
   "cell_type": "markdown",
   "metadata": {},
   "source": [
    "# Using git / github\n",
    "\n",
    "## One-off configurations\n",
    "```\n",
    "git config --global user.name \"Vlad Dracula\"\n",
    "git config --global user.email \"vlad@tran.sylvan.ia\"\n",
    "git config --global core.editor \"nano -w\"\n",
    "```\n",
    "\n",
    "## Basic git commands\n",
    "\n",
    "Start with:\n",
    "```\n",
    "git init\n",
    "```\n",
    "\n",
    "Git mantra:\n",
    "```\n",
    "git add *.txt\n",
    "git commit -m \"message\"\n",
    "```\n",
    "\n",
    "\n",
    "Get info with:\n",
    "```\n",
    "git status\n",
    "git log\n",
    "```\n",
    "\n",
    "Make a copy on github:\n",
    "```\n",
    "git remote add origin https://github.com/vlad/planets.git\n",
    "\n",
    "```\n",
    "\n",
    "Updated mantra:\n",
    "```\n",
    "git add *.txt\n",
    "git commit -m \"message\"\n",
    "git push origin master\n",
    "```\n",
    "\n",
    "## Collaboration in github\n",
    " - Pull requests\n",
    " - Conflicts\n",
    " - Branches\n",
    " \n"
   ]
  }
 ],
 "metadata": {
  "kernelspec": {
   "display_name": "Python 3",
   "language": "python",
   "name": "python3"
  },
  "language_info": {
   "codemirror_mode": {
    "name": "ipython",
    "version": 3
   },
   "file_extension": ".py",
   "mimetype": "text/x-python",
   "name": "python",
   "nbconvert_exporter": "python",
   "pygments_lexer": "ipython3",
   "version": "3.5.4"
  }
 },
 "nbformat": 4,
 "nbformat_minor": 2
}
