{
 "cells": [
  {
   "cell_type": "markdown",
   "metadata": {
    "slideshow": {
     "slide_type": "skip"
    }
   },
   "source": [
    "# Sharing your work with Jupyter\n",
    "Jupyter has multiple features for sharing your work with other people. Github already facilitates the possibility of viewing your notebooks online. For example, notebooks of [this workshop](https://github.com/escience-academy/2018-06-25-UK-MetOffice-Summer-school/tree/master/notebook) can beviewed on Github.\n",
    "\n",
    "But there are many more options for sharing your notebooks. You can convert your notebooks to many other formats using `nbconvert`. For instance, let's say we want to share this notebook."
   ]
  },
  {
   "cell_type": "markdown",
   "metadata": {
    "slideshow": {
     "slide_type": "slide"
    }
   },
   "source": [
    "# My notebook\n",
    "This notebook does something fancy.\n",
    "\n",
    "We can add an explanation on what is it we are doing, using Markdown."
   ]
  },
  {
   "cell_type": "markdown",
   "metadata": {
    "slideshow": {
     "slide_type": "slide"
    }
   },
   "source": [
    "## Markdown in 5 seconds\n",
    "\n",
    "You can have plain text on Markdown. More info on syntax can be found [here](https://daringfireball.net/projects/markdown/syntax)\n",
    "\n",
    " - Lists\n",
    " - are\n",
    " - also\n",
    " - useful\n",
    " \n",
    "| We can | build | Tables |\n",
    "|--------|-------|--------|\n",
    "| With   |       |        |\n",
    "|        |  some |        |\n",
    "|        |       |   data |\n",
    "\n",
    "This is a [useful site](https://www.tablesgenerator.com/markdown_tables) to build tables."
   ]
  },
  {
   "cell_type": "code",
   "execution_count": 1,
   "metadata": {
    "slideshow": {
     "slide_type": "skip"
    }
   },
   "outputs": [
    {
     "name": "stdout",
     "output_type": "stream",
     "text": [
      "Populating the interactive namespace from numpy and matplotlib\n"
     ]
    }
   ],
   "source": [
    "%pylab inline"
   ]
  },
  {
   "cell_type": "markdown",
   "metadata": {
    "slideshow": {
     "slide_type": "slide"
    }
   },
   "source": [
    "# Description of what we want to do\n",
    "We have a range of numbers $x = [0, 4 \\pi]$\n",
    "\n",
    "And want to calculate:\n",
    "$$f(x) = sin(x) + \\epsilon$$"
   ]
  },
  {
   "cell_type": "code",
   "execution_count": 2,
   "metadata": {
    "slideshow": {
     "slide_type": "subslide"
    }
   },
   "outputs": [],
   "source": [
    "# This python code is equivalent\n",
    "x = np.linspace(0, 4*np.pi)\n",
    "y = np.sin(x)\n",
    "t = np.random.normal(loc=0, scale=0.1, size=x.shape)"
   ]
  },
  {
   "cell_type": "code",
   "execution_count": 3,
   "metadata": {
    "slideshow": {
     "slide_type": "skip"
    }
   },
   "outputs": [
    {
     "name": "stdout",
     "output_type": "stream",
     "text": [
      "Heavy compute -- I don t want to print this\n"
     ]
    }
   ],
   "source": [
    "print('Heavy compute -- I don t want this included on my slides')"
   ]
  },
  {
   "cell_type": "code",
   "execution_count": 4,
   "metadata": {
    "slideshow": {
     "slide_type": "fragment"
    }
   },
   "outputs": [
    {
     "data": {
      "text/plain": [
       "[<matplotlib.lines.Line2D at 0x7f881de1d048>]"
      ]
     },
     "execution_count": 4,
     "metadata": {},
     "output_type": "execute_result"
    },
    {
     "data": {
      "image/png": "[encoded data removed]",
      "text/plain": [
       "<Figure size 432x288 with 1 Axes>"
      ]
     },
     "metadata": {},
     "output_type": "display_data"
    }
   ],
   "source": [
    "plt.plot(x,y + t)"
   ]
  },
  {
   "cell_type": "markdown",
   "metadata": {
    "slideshow": {
     "slide_type": "skip"
    }
   },
   "source": [
    "** Jupyter lab feature: Right-click cell above and select: \"Create new view for output\"**"
   ]
  },
  {
   "cell_type": "markdown",
   "metadata": {
    "slideshow": {
     "slide_type": "slide"
    }
   },
   "source": [
    "# Metadata\n",
    "Notice that on the left hand panel the 'Metadata panel' changes depending on the `Slide Type` we select:\n",
    "\n",
    "```\n",
    "{\n",
    "    \"slideshow\": {\n",
    "        \"slide_type\": \"slide\"\n",
    "    }\n",
    "}\n",
    "```"
   ]
  },
  {
   "cell_type": "markdown",
   "metadata": {
    "slideshow": {
     "slide_type": "slide"
    }
   },
   "source": [
    "## Exporting\n",
    "\n",
    "## PDF\n",
    "We can directly convert to PDF by selecting `File > Export Notebook As ... > PDF`\n",
    "\n",
    "## Slideshow\n",
    "\n",
    "We present our notebook typing the following command:\n",
    "\n",
    "```\n",
    "jupyter nbconvert notebook/4-Sharing\\ notebooks.ipynb --to slides --post serve --SlidesExporter.reveal_theme=solarized\n",
    "``` \n",
    "\n",
    "For more themes see: https://github.com/hakimel/reveal.js#theming"
   ]
  }
 ],
 "metadata": {
  "kernelspec": {
   "display_name": "Python 3",
   "language": "python",
   "name": "python3"
  },
  "language_info": {
   "codemirror_mode": {
    "name": "ipython",
    "version": 3
   },
   "file_extension": ".py",
   "mimetype": "text/x-python",
   "name": "python",
   "nbconvert_exporter": "python",
   "pygments_lexer": "ipython3",
   "version": "3.5.4"
  }
 },
 "nbformat": 4,
 "nbformat_minor": 2
}
