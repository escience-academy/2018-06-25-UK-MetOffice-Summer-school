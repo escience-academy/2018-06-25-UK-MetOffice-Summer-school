{
 "cells": [
  {
   "cell_type": "markdown",
   "metadata": {},
   "source": [
    "# Import Python modules"
   ]
  },
  {
   "cell_type": "code",
   "execution_count": 1,
   "metadata": {},
   "outputs": [],
   "source": [
    "% matplotlib inline"
   ]
  },
  {
   "cell_type": "code",
   "execution_count": 2,
   "metadata": {},
   "outputs": [],
   "source": [
    "import numpy as np\n",
    "import scipy.stats  as stats"
   ]
  },
  {
   "cell_type": "code",
   "execution_count": 3,
   "metadata": {},
   "outputs": [],
   "source": [
    "import matplotlib.pyplot as plt"
   ]
  },
  {
   "cell_type": "code",
   "execution_count": 4,
   "metadata": {},
   "outputs": [],
   "source": [
    "import time\n",
    "from datetime import datetime, timedelta\n",
    "from pathlib import Path"
   ]
  },
  {
   "cell_type": "markdown",
   "metadata": {},
   "source": [
    "# Introduction\n",
    "\n",
    "This notebook is to teach statistics..."
   ]
  },
  {
   "cell_type": "markdown",
   "metadata": {},
   "source": [
    "## Random numbers"
   ]
  },
  {
   "cell_type": "code",
   "execution_count": 5,
   "metadata": {},
   "outputs": [
    {
     "data": {
      "text/plain": [
       "6"
      ]
     },
     "execution_count": 5,
     "metadata": {},
     "output_type": "execute_result"
    }
   ],
   "source": [
    "np.random.randint(0,10)     # Get a random integer in the specified range"
   ]
  },
  {
   "cell_type": "code",
   "execution_count": 6,
   "metadata": {},
   "outputs": [
    {
     "data": {
      "text/plain": [
       "2"
      ]
     },
     "execution_count": 6,
     "metadata": {},
     "output_type": "execute_result"
    }
   ],
   "source": [
    "np.random.choice([2,4,6,9]) # Get a random element from a sequence"
   ]
  },
  {
   "cell_type": "code",
   "execution_count": 7,
   "metadata": {},
   "outputs": [
    {
     "data": {
      "text/plain": [
       "0.5014543042903545"
      ]
     },
     "execution_count": 7,
     "metadata": {},
     "output_type": "execute_result"
    }
   ],
   "source": [
    "np.random.random()          # Get a real number between 0 and 1"
   ]
  },
  {
   "cell_type": "code",
   "execution_count": 8,
   "metadata": {},
   "outputs": [
    {
     "data": {
      "text/plain": [
       "7.123446202883078"
      ]
     },
     "execution_count": 8,
     "metadata": {},
     "output_type": "execute_result"
    }
   ],
   "source": [
    "np.random.uniform(0,10)     # Get a real in the specified range"
   ]
  },
  {
   "cell_type": "markdown",
   "metadata": {},
   "source": [
    "## Probability distributions"
   ]
  },
  {
   "cell_type": "markdown",
   "metadata": {},
   "source": [
    "https://docs.scipy.org/doc/scipy/reference/tutorial/stats/continuous.html\n",
    "\n",
    "https://docs.scipy.org/doc/numpy-1.14.0/reference/routines.random.html"
   ]
  },
  {
   "cell_type": "code",
   "execution_count": 17,
   "metadata": {},
   "outputs": [
    {
     "name": "stdout",
     "output_type": "stream",
     "text": [
      "[1.569918378916666, 7.022100424924458, 2.614782663912485, 4.517129080114671, 4.080652648079488, 6.1154121111339945]\n"
     ]
    }
   ],
   "source": [
    "np.random.seed(122)   # Set the seed to an arbitrary value Set the \n",
    "\n",
    "print([np.random.uniform(0,10) for x in range(6)])"
   ]
  },
  {
   "cell_type": "markdown",
   "metadata": {},
   "source": [
    "gaussian distribution with mean = 2.0, and a standard deviation of 1.0:"
   ]
  },
  {
   "cell_type": "code",
   "execution_count": 25,
   "metadata": {},
   "outputs": [
    {
     "data": {
      "text/plain": [
       "[<matplotlib.lines.Line2D at 0x7ff49f467b70>]"
      ]
     },
     "execution_count": 25,
     "metadata": {},
     "output_type": "execute_result"
    },
    {
     "data": {
      "image/png": "[encoded data removed]",
      "text/plain": [
       "<Figure size 432x288 with 1 Axes>"
      ]
     },
     "metadata": {},
     "output_type": "display_data"
    }
   ],
   "source": [
    "gaussian = stats.norm(loc=4.0, scale=1.0)\n",
    "x = np.linspace(0.0, 8.0, 100)\n",
    "y = gaussian.pdf(x)\n",
    "plt.plot(x,y)"
   ]
  },
  {
   "cell_type": "markdown",
   "metadata": {},
   "source": [
    "Cumulative distribution"
   ]
  },
  {
   "cell_type": "code",
   "execution_count": 26,
   "metadata": {},
   "outputs": [
    {
     "data": {
      "text/plain": [
       "[<matplotlib.lines.Line2D at 0x7ff49f3d3400>]"
      ]
     },
     "execution_count": 26,
     "metadata": {},
     "output_type": "execute_result"
    },
    {
     "data": {
      "image/png": "[encoded data removed]",
      "text/plain": [
       "<Figure size 432x288 with 1 Axes>"
      ]
     },
     "metadata": {},
     "output_type": "display_data"
    }
   ],
   "source": [
    "z = gaussian.cdf(x)\n",
    "plt.plot(x,z)"
   ]
  },
  {
   "cell_type": "markdown",
   "metadata": {},
   "source": [
    "For hypothesis testing, one often needs the p-value. For example, for the given gaussian distribution above, what would be the x-value so that P(X <= x) = 0.95?"
   ]
  },
  {
   "cell_type": "code",
   "execution_count": 27,
   "metadata": {},
   "outputs": [
    {
     "data": {
      "text/plain": [
       "5.644853626951472"
      ]
     },
     "execution_count": 27,
     "metadata": {},
     "output_type": "execute_result"
    }
   ],
   "source": [
    "gaussian.ppf(0.95)"
   ]
  },
  {
   "cell_type": "code",
   "execution_count": 30,
   "metadata": {},
   "outputs": [
    {
     "name": "stderr",
     "output_type": "stream",
     "text": [
      "/home/fdiblen/.pyenv/versions/3.6.5/envs/cdt-exeter/lib/python3.6/site-packages/matplotlib/axes/_axes.py:6462: UserWarning: The 'normed' kwarg is deprecated, and has been replaced by the 'density' kwarg.\n",
      "  warnings.warn(\"The 'normed' kwarg is deprecated, and has been \"\n"
     ]
    },
    {
     "data": {
      "image/png": "[encoded data removed]",
      "text/plain": [
       "<Figure size 432x288 with 1 Axes>"
      ]
     },
     "metadata": {},
     "output_type": "display_data"
    }
   ],
   "source": [
    "x = gaussian.rvs(1000);\n",
    "plt.hist(x, bins=40, normed=True);"
   ]
  },
  {
   "cell_type": "code",
   "execution_count": null,
   "metadata": {},
   "outputs": [],
   "source": []
  },
  {
   "cell_type": "markdown",
   "metadata": {},
   "source": [
    "## Curve fitting"
   ]
  },
  {
   "cell_type": "code",
   "execution_count": 15,
   "metadata": {},
   "outputs": [
    {
     "ename": "TypeError",
     "evalue": "'module' object is not callable",
     "output_type": "error",
     "traceback": [
      "\u001b[0;31m---------------------------------------------------------------------------\u001b[0m",
      "\u001b[0;31mTypeError\u001b[0m                                 Traceback (most recent call last)",
      "\u001b[0;32m<ipython-input-15-5b9ce3c76141>\u001b[0m in \u001b[0;36m<module>\u001b[0;34m()\u001b[0m\n\u001b[1;32m      3\u001b[0m \u001b[0;34m\u001b[0m\u001b[0m\n\u001b[1;32m      4\u001b[0m \u001b[0mx_data\u001b[0m \u001b[0;34m=\u001b[0m \u001b[0mnp\u001b[0m\u001b[0;34m.\u001b[0m\u001b[0mlinspace\u001b[0m\u001b[0;34m(\u001b[0m\u001b[0;34m-\u001b[0m\u001b[0;36m5\u001b[0m\u001b[0;34m,\u001b[0m \u001b[0;36m5\u001b[0m\u001b[0;34m,\u001b[0m \u001b[0mnum\u001b[0m\u001b[0;34m=\u001b[0m\u001b[0;36m100\u001b[0m\u001b[0;34m)\u001b[0m\u001b[0;34m\u001b[0m\u001b[0m\n\u001b[0;32m----> 5\u001b[0;31m \u001b[0my_data\u001b[0m \u001b[0;34m=\u001b[0m \u001b[0;36m3.4\u001b[0m \u001b[0;34m*\u001b[0m \u001b[0mnp\u001b[0m\u001b[0;34m.\u001b[0m\u001b[0msin\u001b[0m\u001b[0;34m(\u001b[0m\u001b[0;36m2.5\u001b[0m \u001b[0;34m*\u001b[0m \u001b[0mx_data\u001b[0m\u001b[0;34m)\u001b[0m \u001b[0;34m+\u001b[0m \u001b[0mnp\u001b[0m\u001b[0;34m.\u001b[0m\u001b[0mrandom\u001b[0m\u001b[0;34m(\u001b[0m\u001b[0msize\u001b[0m\u001b[0;34m=\u001b[0m\u001b[0;36m100\u001b[0m\u001b[0;34m)\u001b[0m\u001b[0;34m\u001b[0m\u001b[0m\n\u001b[0m\u001b[1;32m      6\u001b[0m \u001b[0;34m\u001b[0m\u001b[0m\n\u001b[1;32m      7\u001b[0m \u001b[0;31m## And plot it\u001b[0m\u001b[0;34m\u001b[0m\u001b[0;34m\u001b[0m\u001b[0m\n",
      "\u001b[0;31mTypeError\u001b[0m: 'module' object is not callable"
     ]
    }
   ],
   "source": [
    "# Seed the random number generator for reproducibility\n",
    "np.random.seed(0)\n",
    "\n",
    "x_data = np.linspace(-5, 5, num=100)\n",
    "y_data = 3.4 * np.sin(2.5 * x_data) + np.random(size=100)\n",
    "\n",
    "## And plot it\n",
    "#plt.figure(figsize=(6, 4));\n",
    "#plt.scatter(x_data, y_data);"
   ]
  },
  {
   "cell_type": "code",
   "execution_count": null,
   "metadata": {},
   "outputs": [],
   "source": [
    "from scipy import optimize\n",
    "\n",
    "def test_func(x, a, b):\n",
    "    return a * np.sin(b * x)\n",
    "\n",
    "params, params_covariance = optimize.curve_fit(test_func, x_data, y_data,\n",
    "                                               p0=[2, 2])\n",
    "print(params);"
   ]
  },
  {
   "cell_type": "code",
   "execution_count": null,
   "metadata": {},
   "outputs": [],
   "source": [
    "plt.figure(figsize=(6, 4))\n",
    "plt.scatter(x_data, y_data, label='Data')\n",
    "plt.plot(x_data, test_func(x_data, params[0], params[1]),\n",
    "         label='Fit function')\n",
    "\n",
    "plt.legend(loc='best')\n",
    "\n",
    "plt.show()"
   ]
  },
  {
   "cell_type": "code",
   "execution_count": null,
   "metadata": {},
   "outputs": [],
   "source": []
  },
  {
   "cell_type": "code",
   "execution_count": null,
   "metadata": {},
   "outputs": [],
   "source": [
    "from scipy.stats import norm\n",
    "\n",
    "# picking 500 of from a normal distrubution\n",
    "# with mean 0 and standard deviation 1\n",
    "samp = norm.rvs(loc=0, scale=True, size=500) \n",
    "\n",
    "param = norm.fit(samp) # distribution fitting\n",
    "# now, param[0] and param[1] are the mean and \n",
    "# the standard deviation of the fitted distribution\n",
    "\n",
    "# generate 100 numbers between -5 and 5\n",
    "x = np.linspace(-5,5,100)\n",
    "\n",
    "# fitted distribution\n",
    "pdf_fitted = norm.pdf(x, loc=param[0], scale=param[1])\n",
    "\n",
    "# original distribution\n",
    "pdf = norm.pdf(x)\n",
    "\n",
    "plt.figure(figsize=(8, 6))\n",
    "plt.title('Normal distribution')\n",
    "plt.plot(x, pdf_fitted, 'r-', label='fitted distribution')\n",
    "plt.plot(x, pdf, 'b-', label='original distribution')\n",
    "plt.hist(samp, density=True, alpha=.3, label='sample')\n",
    "plt.legend(loc='best', frameon=False)\n",
    "plt.show()"
   ]
  },
  {
   "cell_type": "code",
   "execution_count": null,
   "metadata": {},
   "outputs": [],
   "source": []
  },
  {
   "cell_type": "markdown",
   "metadata": {},
   "source": [
    "# Exploring NetCDF data"
   ]
  },
  {
   "cell_type": "code",
   "execution_count": null,
   "metadata": {},
   "outputs": [],
   "source": [
    "import netCDF4"
   ]
  },
  {
   "cell_type": "markdown",
   "metadata": {},
   "source": [
    "## List available datasets"
   ]
  },
  {
   "cell_type": "code",
   "execution_count": null,
   "metadata": {},
   "outputs": [],
   "source": [
    "!ls ../data/*.nc"
   ]
  },
  {
   "cell_type": "markdown",
   "metadata": {},
   "source": [
    "# Read dataset"
   ]
  },
  {
   "cell_type": "code",
   "execution_count": null,
   "metadata": {},
   "outputs": [],
   "source": [
    "input_directory = Path(\"../data\")\n",
    "input_file = input_directory / \"pr_Amon_HadGEM2-ES_rcp85_r1i1p1_200512-203011.nc\"\n",
    "dataset = netCDF4.Dataset(input_file, \"r\")"
   ]
  },
  {
   "cell_type": "markdown",
   "metadata": {},
   "source": [
    "# Get info about the dataset"
   ]
  },
  {
   "cell_type": "markdown",
   "metadata": {},
   "source": [
    "## Define functions to get useful information"
   ]
  },
  {
   "cell_type": "code",
   "execution_count": null,
   "metadata": {},
   "outputs": [],
   "source": [
    "def list_dataset_variables(datasetName):\n",
    "    \"\"\"Show description and units of variables in a NetCDF `DataSet`.\"\"\"\n",
    "    print(\"\\n\\nList of variables:\\n\")\n",
    "    print(60*\"-\")\n",
    "    for name, variable in datasetName.variables.items():            \n",
    "        print(\"variable: {}\".format(name))\n",
    "        for attrname in variable.ncattrs():\n",
    "            if (attrname == 'long_name'):\n",
    "                print(\"    description: {}\".format(getattr(variable, attrname)))\n",
    "            if (attrname == 'units'):\n",
    "                print(\"    units      : {}\".format(getattr(variable, attrname)))\n",
    "        print(60*\"-\")\n",
    "\n",
    "                \n",
    "def get_dataset_info(datasetName):\n",
    "    \"\"\"Show useful information about the NetCDF `DataSet`.\"\"\"\n",
    "    print(\"title       : \", datasetName.title)\n",
    "    print(\"experiment  : \", datasetName.experiment)\n",
    "    print(\"data_model  : \", datasetName.data_model)\n",
    "    print(\"institution : \", datasetName.institution)\n",
    "    print(\"contact     : \", datasetName.contact)\n",
    "#     print(\"history     : \", datasetName.history)\n",
    "#     print(\"references  : \", datasetName.references)\n",
    "#     print(\"source      : \", datasetName.source)\n",
    "#     print(\"dimensions  : \", datasetName.dimensions)\n",
    "#     print(\"product     : \", datasetName.product)\n",
    "\n",
    "    list_dataset_variables(datasetName)\n",
    "    \n",
    "    \n",
    "def get_dates(data_set):\n",
    "    \"\"\"Obtain `datetime.datetime` objects from the `'time'` axis of a NetCDF `DataSet`.\"\"\"\n",
    "    return netCDF4.num2date(data_set['time'][:], data_set['time'].units)"
   ]
  },
  {
   "cell_type": "code",
   "execution_count": null,
   "metadata": {},
   "outputs": [],
   "source": [
    "get_dataset_info(dataset)"
   ]
  },
  {
   "cell_type": "markdown",
   "metadata": {},
   "source": [
    "# Discover the data"
   ]
  },
  {
   "cell_type": "markdown",
   "metadata": {},
   "source": [
    "### Use **Precipitation** variable\n",
    "\n",
    "``` python\n",
    "pr   --> dataset['pr'][:]\n",
    "\n",
    "lat  --> dataset['lat'][:]\n",
    "\n",
    "lon  --> dataset['lon'][:]\n",
    "\n",
    "time --> get_dates(dataset)\n",
    "```"
   ]
  },
  {
   "cell_type": "code",
   "execution_count": null,
   "metadata": {},
   "outputs": [],
   "source": []
  },
  {
   "cell_type": "code",
   "execution_count": null,
   "metadata": {},
   "outputs": [],
   "source": [
    "print(time[0])"
   ]
  },
  {
   "cell_type": "code",
   "execution_count": null,
   "metadata": {},
   "outputs": [],
   "source": [
    "print(time.shape)"
   ]
  },
  {
   "cell_type": "code",
   "execution_count": null,
   "metadata": {},
   "outputs": [],
   "source": [
    "print(lat.shape)"
   ]
  },
  {
   "cell_type": "code",
   "execution_count": null,
   "metadata": {},
   "outputs": [],
   "source": [
    "print(lon.shape)"
   ]
  },
  {
   "cell_type": "code",
   "execution_count": null,
   "metadata": {},
   "outputs": [],
   "source": [
    "#sic.view()"
   ]
  },
  {
   "cell_type": "code",
   "execution_count": null,
   "metadata": {},
   "outputs": [],
   "source": [
    "input_file"
   ]
  },
  {
   "cell_type": "code",
   "execution_count": null,
   "metadata": {},
   "outputs": [],
   "source": [
    "# pr_Amon_HadGEM2-ES_rcp85_r1i1p1_200512-203011.nc\n",
    "# 2005 December to 2030 November\n",
    "print(\"Number of months: \", ((2030-2005))*12)\n",
    "print (pr.shape, pr.size)"
   ]
  },
  {
   "cell_type": "markdown",
   "metadata": {},
   "source": [
    "## Plot"
   ]
  },
  {
   "cell_type": "code",
   "execution_count": null,
   "metadata": {},
   "outputs": [],
   "source": [
    "import matplotlib.pyplot as plt\n",
    "import matplotlib.colors as colors\n",
    "\n",
    "import cartopy.crs as ccrs\n",
    "import cartopy.io.shapereader as shpreader\n",
    "from cartopy.mpl.ticker import LongitudeFormatter, LatitudeFormatter"
   ]
  },
  {
   "cell_type": "markdown",
   "metadata": {},
   "source": [
    "Find an interesting date"
   ]
  },
  {
   "cell_type": "code",
   "execution_count": null,
   "metadata": {},
   "outputs": [],
   "source": [
    "time[178]"
   ]
  },
  {
   "cell_type": "markdown",
   "metadata": {},
   "source": [
    "### Plot with **matplotlib**"
   ]
  },
  {
   "cell_type": "code",
   "execution_count": null,
   "metadata": {},
   "outputs": [],
   "source": [
    "plt.figure(figsize=(20, 10))\n",
    "plt.imshow(pr[178,:,:]);"
   ]
  },
  {
   "cell_type": "markdown",
   "metadata": {},
   "source": [
    "### Make it more interesting with **cartopy**"
   ]
  },
  {
   "cell_type": "code",
   "execution_count": null,
   "metadata": {},
   "outputs": [],
   "source": [
    "transform=ccrs.RotatedPole(pole_longitude=180.0, pole_latitude=90)\n",
    "projection=ccrs.PlateCarree()\n",
    "\n",
    "fig = plt.figure(figsize=(20, 10))\n",
    "ax = fig.add_subplot(111, projection=projection)\n",
    "pcm = ax.pcolormesh(\n",
    "    dataset['lon'][:], dataset['lat'][:], dataset['pr'][178],\n",
    "    transform=transform)\n",
    "\n",
    "ax.coastlines()\n",
    "fig.colorbar(pcm);"
   ]
  },
  {
   "cell_type": "markdown",
   "metadata": {},
   "source": [
    "### Getting percentile values"
   ]
  },
  {
   "cell_type": "code",
   "execution_count": null,
   "metadata": {},
   "outputs": [],
   "source": [
    "print(np.percentile(pr, 99))\n",
    "print(pr.max())\n",
    "print(np.percentile(pr, 1))\n",
    "print(pr.min())"
   ]
  },
  {
   "cell_type": "markdown",
   "metadata": {},
   "source": [
    "### Get a country data"
   ]
  },
  {
   "cell_type": "code",
   "execution_count": null,
   "metadata": {},
   "outputs": [],
   "source": [
    "shpfilename = shpreader.natural_earth(resolution='50m',\n",
    "                                      category='cultural',\n",
    "                                      name='admin_0_countries')\n",
    "reader = shpreader.Reader(shpfilename)\n",
    "countries = reader.records()\n",
    "\n",
    "uk = None\n",
    "for country in countries:\n",
    "     if country.attributes['ADMIN'] == 'United Kingdom':\n",
    "        uk = country\n",
    "#print(uk)"
   ]
  },
  {
   "cell_type": "markdown",
   "metadata": {},
   "source": [
    "### Highlight the country"
   ]
  },
  {
   "cell_type": "code",
   "execution_count": null,
   "metadata": {},
   "outputs": [],
   "source": [
    "plt.figure(figsize=(20, 10))\n",
    "\n",
    "ax = plt.axes(projection=ccrs.PlateCarree())\n",
    "\n",
    "pcm = ax.pcolormesh(\n",
    "    dataset['lon'][:], dataset['lat'][:], dataset['pr'][178],\n",
    "    transform=transform)\n",
    "\n",
    "ax.add_geometries(uk.geometry, ccrs.PlateCarree(),\n",
    "              facecolor='orange', edgecolor='0.5',\n",
    "              label=uk.attributes['ADMIN'])\n",
    "\n",
    "#ax.coastlines()\n",
    "\n",
    "# ax.set_xticks([0, 60, 120, 180, 240, 300, 360], crs=ccrs.PlateCarree())\n",
    "# ax.set_yticks([-90, -60, -30, 0, 30, 60, 90], crs=ccrs.PlateCarree())\n",
    "# lon_formatter = LongitudeFormatter(zero_direction_label=True)\n",
    "# lat_formatter = LatitudeFormatter()\n",
    "# ax.xaxis.set_major_formatter(lon_formatter)\n",
    "# ax.yaxis.set_major_formatter(lat_formatter)\n",
    "\n",
    "\n",
    "ax.coastlines(zorder=1)\n",
    "ax.gridlines(draw_labels=True)\n",
    "ax.set_title('ax.gridlines(draw_labels=True)')\n",
    "\n",
    "\n",
    "fig.colorbar(pcm);\n",
    "\n",
    "\n",
    "# show only UK\n",
    "#ax.set_extent([-10, 5, 45, 63], crs=ccrs.PlateCarree())\n",
    "            \n",
    "plt.show()"
   ]
  },
  {
   "cell_type": "markdown",
   "metadata": {},
   "source": [
    "### Show only UK"
   ]
  },
  {
   "cell_type": "code",
   "execution_count": null,
   "metadata": {},
   "outputs": [],
   "source": [
    "plt.figure(figsize=(20, 10))\n",
    "\n",
    "ax = plt.axes(projection=ccrs.PlateCarree())\n",
    "\n",
    "pcm = ax.pcolormesh(\n",
    "    dataset['lon'][:], dataset['lat'][:], dataset['pr'][178],\n",
    "    transform=transform)\n",
    "\n",
    "ax.add_geometries(uk.geometry, ccrs.PlateCarree(),\n",
    "              facecolor='orange', edgecolor='0.5',\n",
    "              label=uk.attributes['ADMIN'])\n",
    "\n",
    "ax.coastlines()\n",
    "\n",
    "\n",
    "fig.colorbar(pcm);\n",
    "\n",
    "# show only UK\n",
    "ax.set_extent([-10, 4, 48, 63], crs=ccrs.PlateCarree())\n",
    "\n",
    "\n",
    "plt.show()"
   ]
  },
  {
   "cell_type": "markdown",
   "metadata": {},
   "source": [
    "## Extreme cases"
   ]
  },
  {
   "cell_type": "code",
   "execution_count": null,
   "metadata": {},
   "outputs": [],
   "source": [
    "indices = [pr > np.percentile(pr, 99.999)]\n",
    "extreme = pr[indices]\n",
    "# print(pr.shape)\n",
    "print(extreme.shape)\n",
    "# print(extreme)"
   ]
  },
  {
   "cell_type": "markdown",
   "metadata": {},
   "source": [
    "## Change over the years"
   ]
  },
  {
   "cell_type": "code",
   "execution_count": null,
   "metadata": {},
   "outputs": [],
   "source": [
    "fig = plt.figure(figsize=(16, 6), dpi= 80, facecolor='w', edgecolor='k')\n",
    "\n",
    "plt.plot(get_dates(dataset)[:], pr[:, 50, 3])\n",
    "\n",
    "plt.show()\n",
    "\n",
    "print(dataset['lat'][50])\n",
    "print(dataset['lon'][3])\n",
    "print(dataset['time'][170:190])\n",
    "print(get_dates(dataset)[170:190])"
   ]
  },
  {
   "cell_type": "code",
   "execution_count": null,
   "metadata": {},
   "outputs": [],
   "source": []
  },
  {
   "cell_type": "code",
   "execution_count": null,
   "metadata": {},
   "outputs": [],
   "source": []
  },
  {
   "cell_type": "code",
   "execution_count": null,
   "metadata": {},
   "outputs": [],
   "source": []
  },
  {
   "cell_type": "markdown",
   "metadata": {},
   "source": [
    "#### Exeter --> 50.7184° N, 3.5339° W"
   ]
  },
  {
   "cell_type": "code",
   "execution_count": null,
   "metadata": {},
   "outputs": [],
   "source": [
    "# north_pole = np.unravel_index(np.argmax(dataset['lat'][:]), dataset['lat'].shape)\n",
    "# pr_np = dataset['pr'][:, north_pole[0], north_pole[1]].data\n",
    "\n",
    "# fig, ax = plt.subplots()\n",
    "# ax.plot(get_dates(dataset)[178::180], pr_np[178::180])\n",
    "# ax.set_xlabel('year')"
   ]
  },
  {
   "cell_type": "code",
   "execution_count": null,
   "metadata": {},
   "outputs": [],
   "source": [
    "print(lat.shape)\n",
    "print(lat.size)\n",
    "print(lat.max())\n",
    "print(lat.min())"
   ]
  },
  {
   "cell_type": "markdown",
   "metadata": {},
   "source": [
    "# Save and close"
   ]
  },
  {
   "cell_type": "code",
   "execution_count": null,
   "metadata": {},
   "outputs": [],
   "source": [
    "dataset.close()"
   ]
  },
  {
   "cell_type": "code",
   "execution_count": null,
   "metadata": {},
   "outputs": [],
   "source": []
  }
 ],
 "metadata": {
  "kernelspec": {
   "display_name": "Python 3",
   "language": "python",
   "name": "python3"
  },
  "language_info": {
   "codemirror_mode": {
    "name": "ipython",
    "version": 3
   },
   "file_extension": ".py",
   "mimetype": "text/x-python",
   "name": "python",
   "nbconvert_exporter": "python",
   "pygments_lexer": "ipython3",
   "version": "3.6.5"
  }
 },
 "nbformat": 4,
 "nbformat_minor": 2
}
